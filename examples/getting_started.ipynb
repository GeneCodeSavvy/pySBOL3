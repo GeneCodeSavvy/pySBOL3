{
 "cells": [
  {
   "cell_type": "code",
   "execution_count": 1,
   "id": "64f632ee",
   "metadata": {},
   "outputs": [],
   "source": [
    "import sbol3\n",
    "\n",
    "import os\n",
    "import glob\n",
    "import pathlib"
   ]
  },
  {
   "cell_type": "code",
   "execution_count": 2,
   "id": "a75b90e1",
   "metadata": {},
   "outputs": [],
   "source": [
    "doc = sbol3.Document()"
   ]
  },
  {
   "cell_type": "code",
   "execution_count": 3,
   "id": "e1edb51f",
   "metadata": {},
   "outputs": [],
   "source": [
    "doc.read(pathlib.Path.cwd().parent / 'test' / 'resources' / 'simple_library.nt')"
   ]
  },
  {
   "cell_type": "code",
   "execution_count": 4,
   "id": "4f4f6647",
   "metadata": {},
   "outputs": [],
   "source": [
    "doc.write('simple_library_out.nt')"
   ]
  },
  {
   "cell_type": "code",
   "execution_count": 5,
   "id": "a21de992",
   "metadata": {},
   "outputs": [
    {
     "data": {
      "text/plain": [
       "67"
      ]
     },
     "execution_count": 5,
     "metadata": {},
     "output_type": "execute_result"
    }
   ],
   "source": [
    "len(doc)"
   ]
  },
  {
   "cell_type": "code",
   "execution_count": 6,
   "id": "137891cb",
   "metadata": {},
   "outputs": [
    {
     "name": "stdout",
     "output_type": "stream",
     "text": [
      "Collection....................4\n",
      "CombinatorialDerivation.......6\n",
      "Component.....................33\n",
      "Sequence......................24\n",
      "---\n",
      "Total: .........................67\n",
      "\n"
     ]
    }
   ],
   "source": [
    "print(doc)"
   ]
  },
  {
   "cell_type": "code",
   "execution_count": 7,
   "id": "23d48552",
   "metadata": {
    "scrolled": true
   },
   "outputs": [
    {
     "name": "stdout",
     "output_type": "stream",
     "text": [
      "http://sbolstandard.org/testfiles/All_FPs\n",
      "http://sbolstandard.org/testfiles/FPs_small\n",
      "http://sbolstandard.org/testfiles/FPs_small_ins\n",
      "http://sbolstandard.org/testfiles/Round_1_order\n",
      "http://sbolstandard.org/testfiles/_2018_Interlab\n",
      "http://sbolstandard.org/testfiles/_2018_Interlab_ins\n",
      "http://sbolstandard.org/testfiles/All_FPs_template\n",
      "http://sbolstandard.org/testfiles/B0015\n",
      "http://sbolstandard.org/testfiles/B0032\n",
      "http://sbolstandard.org/testfiles/BB_B0032_BB\n",
      "http://sbolstandard.org/testfiles/BioBricks_scar_long\n",
      "http://sbolstandard.org/testfiles/BioBricks_scar_short\n",
      "http://sbolstandard.org/testfiles/E0040\n",
      "http://sbolstandard.org/testfiles/E1010\n",
      "http://sbolstandard.org/testfiles/ECFP\n",
      "http://sbolstandard.org/testfiles/FPs_small_ins_template\n",
      "http://sbolstandard.org/testfiles/FPs_small_template\n",
      "http://sbolstandard.org/testfiles/I20270\n",
      "http://sbolstandard.org/testfiles/J06504\n",
      "http://sbolstandard.org/testfiles/J23101\n",
      "http://sbolstandard.org/testfiles/J23105\n",
      "http://sbolstandard.org/testfiles/J364001\n",
      "http://sbolstandard.org/testfiles/J364002\n",
      "http://sbolstandard.org/testfiles/J364007\n",
      "http://sbolstandard.org/testfiles/J364009\n",
      "http://sbolstandard.org/testfiles/K592100\n",
      "http://sbolstandard.org/testfiles/R0040\n",
      "http://sbolstandard.org/testfiles/Round_1_order_template\n",
      "http://sbolstandard.org/testfiles/STOP\n",
      "http://sbolstandard.org/testfiles/UNSX\n",
      "http://sbolstandard.org/testfiles/UNSX_UP\n",
      "http://sbolstandard.org/testfiles/UP_element_consensus\n",
      "http://sbolstandard.org/testfiles/_2018_Interlab_ins_template\n",
      "http://sbolstandard.org/testfiles/_2018_Interlab_template\n",
      "http://sbolstandard.org/testfiles/mCerulean3\n",
      "http://sbolstandard.org/testfiles/mTagBFP2\n",
      "http://sbolstandard.org/testfiles/meffCFP\n",
      "http://sbolstandard.org/testfiles/mmilCFP\n",
      "http://sbolstandard.org/testfiles/pSB1C3\n",
      "http://sbolstandard.org/testfiles/B0015_sequence\n",
      "http://sbolstandard.org/testfiles/B0032_sequence\n",
      "http://sbolstandard.org/testfiles/BioBricks_scar_long_sequence\n",
      "http://sbolstandard.org/testfiles/BioBricks_scar_short_sequence\n",
      "http://sbolstandard.org/testfiles/E0040_sequence\n",
      "http://sbolstandard.org/testfiles/E1010_sequence\n",
      "http://sbolstandard.org/testfiles/ECFP_sequence\n",
      "http://sbolstandard.org/testfiles/I20270_sequence\n",
      "http://sbolstandard.org/testfiles/J06504_sequence\n",
      "http://sbolstandard.org/testfiles/J23101_sequence\n",
      "http://sbolstandard.org/testfiles/J23105_sequence\n",
      "http://sbolstandard.org/testfiles/J364001_sequence\n",
      "http://sbolstandard.org/testfiles/J364002_sequence\n",
      "http://sbolstandard.org/testfiles/J364007_sequence\n",
      "http://sbolstandard.org/testfiles/J364009_sequence\n",
      "http://sbolstandard.org/testfiles/K592100_sequence\n",
      "http://sbolstandard.org/testfiles/R0040_sequence\n",
      "http://sbolstandard.org/testfiles/STOP_sequence\n",
      "http://sbolstandard.org/testfiles/UNSX_sequence\n",
      "http://sbolstandard.org/testfiles/UP_element_consensus_sequence\n",
      "http://sbolstandard.org/testfiles/mCerulean3_sequence\n",
      "http://sbolstandard.org/testfiles/mTagBFP2_sequence\n",
      "http://sbolstandard.org/testfiles/meffCFP_sequence\n",
      "http://sbolstandard.org/testfiles/mmilCFP_sequence\n",
      "http://sbolstandard.org/testfiles/BasicParts\n",
      "http://sbolstandard.org/testfiles/CompositeParts\n",
      "http://sbolstandard.org/testfiles/FinalProducts\n",
      "http://sbolstandard.org/testfiles/LinearDNAProducts\n"
     ]
    }
   ],
   "source": [
    "for obj in doc.objects:\n",
    "     print(obj.identity)"
   ]
  },
  {
   "cell_type": "code",
   "execution_count": 8,
   "id": "77d76ce7",
   "metadata": {},
   "outputs": [],
   "source": [
    "sbol3.set_namespace('http://sbolstandard.org/testfiles')"
   ]
  },
  {
   "cell_type": "code",
   "execution_count": 9,
   "id": "d356a34c",
   "metadata": {},
   "outputs": [],
   "source": [
    "cas9 = sbol3.Component('Cas9', sbol3.SBO_PROTEIN)  # Constructs a protein component\n",
    "target_promoter = sbol3.Component('target_promoter', sbol3.SBO_DNA)"
   ]
  },
  {
   "cell_type": "code",
   "execution_count": 10,
   "id": "cca9436b",
   "metadata": {},
   "outputs": [
    {
     "data": {
      "text/plain": [
       "'http://sbolstandard.org/testfiles/target_promoter'"
      ]
     },
     "execution_count": 10,
     "metadata": {},
     "output_type": "execute_result"
    }
   ],
   "source": [
    "target_promoter.identity"
   ]
  },
  {
   "cell_type": "code",
   "execution_count": 11,
   "id": "a363eeac",
   "metadata": {},
   "outputs": [
    {
     "data": {
      "text/plain": [
       "'target_promoter'"
      ]
     },
     "execution_count": 11,
     "metadata": {},
     "output_type": "execute_result"
    }
   ],
   "source": [
    "target_promoter.display_id"
   ]
  },
  {
   "cell_type": "code",
   "execution_count": 12,
   "id": "e490428d",
   "metadata": {},
   "outputs": [
    {
     "data": {
      "text/plain": [
       "'http://sbolstandard.org/testfiles/promoters/second_promoter'"
      ]
     },
     "execution_count": 12,
     "metadata": {},
     "output_type": "execute_result"
    }
   ],
   "source": [
    "second_promoter = sbol3.Component('promoters/second_promoter', sbol3.SBO_DNA)\n",
    "second_promoter.identity"
   ]
  },
  {
   "cell_type": "code",
   "execution_count": 13,
   "id": "9e12164e",
   "metadata": {},
   "outputs": [
    {
     "data": {
      "text/plain": [
       "'second_promoter'"
      ]
     },
     "execution_count": 13,
     "metadata": {},
     "output_type": "execute_result"
    }
   ],
   "source": [
    "second_promoter.display_id"
   ]
  },
  {
   "cell_type": "code",
   "execution_count": 14,
   "id": "7967f894",
   "metadata": {},
   "outputs": [
    {
     "data": {
      "text/plain": [
       "'http://sbolstandard.org/other_namespace/third_promoter'"
      ]
     },
     "execution_count": 14,
     "metadata": {},
     "output_type": "execute_result"
    }
   ],
   "source": [
    "third_promoter = sbol3.Component('http://sbolstandard.org/other_namespace/third_promoter', sbol3.SBO_DNA)\n",
    "third_promoter.identity"
   ]
  },
  {
   "cell_type": "code",
   "execution_count": 15,
   "id": "9df4128a",
   "metadata": {},
   "outputs": [
    {
     "data": {
      "text/plain": [
       "'third_promoter'"
      ]
     },
     "execution_count": 15,
     "metadata": {},
     "output_type": "execute_result"
    }
   ],
   "source": [
    "third_promoter.display_id"
   ]
  },
  {
   "cell_type": "code",
   "execution_count": 16,
   "id": "d5e5f29f",
   "metadata": {},
   "outputs": [
    {
     "data": {
      "text/plain": [
       "'https://identifiers.org/SO:0000288'"
      ]
     },
     "execution_count": 16,
     "metadata": {},
     "output_type": "execute_result"
    }
   ],
   "source": [
    "SO_ENGINEERED_FUSION_GENE = sbol3.SO_NS + '0000288'  # Sequence Ontology term\n",
    "SO_ENGINEERED_FUSION_GENE"
   ]
  },
  {
   "cell_type": "code",
   "execution_count": 17,
   "id": "a2cec0d8",
   "metadata": {},
   "outputs": [
    {
     "data": {
      "text/plain": [
       "'https://identifiers.org/SBO:0000204'"
      ]
     },
     "execution_count": 17,
     "metadata": {},
     "output_type": "execute_result"
    }
   ],
   "source": [
    "SBO_DNA_REPLICATION = sbol3.SBO_NS + '0000204'  # Systems Biology Ontology term\n",
    "SBO_DNA_REPLICATION"
   ]
  },
  {
   "cell_type": "code",
   "execution_count": 18,
   "id": "73dbe432",
   "metadata": {},
   "outputs": [],
   "source": [
    "doc.add(target_promoter)\n",
    "doc.add(cas9)"
   ]
  },
  {
   "cell_type": "code",
   "execution_count": 19,
   "id": "7a8df233",
   "metadata": {},
   "outputs": [
    {
     "data": {
      "text/plain": [
       "'http://sbolstandard.org/testfiles/Cas9'"
      ]
     },
     "execution_count": 19,
     "metadata": {},
     "output_type": "execute_result"
    }
   ],
   "source": [
    "cas9.identity"
   ]
  },
  {
   "cell_type": "code",
   "execution_count": 20,
   "id": "cf9d9f17",
   "metadata": {},
   "outputs": [
    {
     "data": {
      "text/plain": [
       "'http://sbolstandard.org/testfiles/Cas9'"
      ]
     },
     "execution_count": 20,
     "metadata": {},
     "output_type": "execute_result"
    }
   ],
   "source": [
    "found_obj = doc.find('http://sbolstandard.org/testfiles/Cas9')\n",
    "found_obj.identity"
   ]
  },
  {
   "cell_type": "code",
   "execution_count": 21,
   "id": "744d3732",
   "metadata": {},
   "outputs": [
    {
     "data": {
      "text/plain": [
       "'http://sbolstandard.org/testfiles/target_promoter'"
      ]
     },
     "execution_count": 21,
     "metadata": {},
     "output_type": "execute_result"
    }
   ],
   "source": [
    "target_promoter.identity"
   ]
  },
  {
   "cell_type": "code",
   "execution_count": 22,
   "id": "283b0649",
   "metadata": {},
   "outputs": [
    {
     "data": {
      "text/plain": [
       "'http://sbolstandard.org/testfiles/target_promoter'"
      ]
     },
     "execution_count": 22,
     "metadata": {},
     "output_type": "execute_result"
    }
   ],
   "source": [
    "found_obj = doc.find('http://sbolstandard.org/testfiles/target_promoter')\n",
    "found_obj.identity"
   ]
  },
  {
   "cell_type": "code",
   "execution_count": 23,
   "id": "b709933a",
   "metadata": {},
   "outputs": [
    {
     "data": {
      "text/plain": [
       "'Cas9'"
      ]
     },
     "execution_count": 23,
     "metadata": {},
     "output_type": "execute_result"
    }
   ],
   "source": [
    "cas9.display_id"
   ]
  },
  {
   "cell_type": "code",
   "execution_count": 24,
   "id": "b3007de0",
   "metadata": {},
   "outputs": [
    {
     "data": {
      "text/plain": [
       "'http://sbolstandard.org/testfiles/Cas9'"
      ]
     },
     "execution_count": 24,
     "metadata": {},
     "output_type": "execute_result"
    }
   ],
   "source": [
    "found_obj = doc.find('Cas9')\n",
    "found_obj.identity"
   ]
  },
  {
   "cell_type": "code",
   "execution_count": null,
   "id": "0d21ef6b",
   "metadata": {},
   "outputs": [],
   "source": []
  },
  {
   "cell_type": "code",
   "execution_count": 25,
   "id": "6b700f21",
   "metadata": {},
   "outputs": [
    {
     "data": {
      "text/plain": [
       "'http://sbolstandard.org/testfiles/Cas9'"
      ]
     },
     "execution_count": 25,
     "metadata": {},
     "output_type": "execute_result"
    }
   ],
   "source": [
    "found_obj = doc.find('Cas9')\n",
    "found_obj.identity"
   ]
  },
  {
   "cell_type": "code",
   "execution_count": 26,
   "id": "3548bfde",
   "metadata": {},
   "outputs": [],
   "source": [
    "cas9a = sbol3.Component('http://sbolstandard.org/other_namespace/Cas9', sbol3.SBO_PROTEIN) "
   ]
  },
  {
   "cell_type": "code",
   "execution_count": 27,
   "id": "a40504c3",
   "metadata": {},
   "outputs": [
    {
     "data": {
      "text/plain": [
       "'http://sbolstandard.org/other_namespace/Cas9'"
      ]
     },
     "execution_count": 27,
     "metadata": {},
     "output_type": "execute_result"
    }
   ],
   "source": [
    "cas9a.identity"
   ]
  },
  {
   "cell_type": "code",
   "execution_count": 28,
   "id": "1a1cf7e0",
   "metadata": {},
   "outputs": [
    {
     "data": {
      "text/plain": [
       "'Cas9'"
      ]
     },
     "execution_count": 28,
     "metadata": {},
     "output_type": "execute_result"
    }
   ],
   "source": [
    "cas9a.display_id"
   ]
  },
  {
   "cell_type": "code",
   "execution_count": 29,
   "id": "4fdec96f",
   "metadata": {},
   "outputs": [],
   "source": [
    "doc.add(cas9a)"
   ]
  },
  {
   "cell_type": "code",
   "execution_count": 30,
   "id": "f42f8cea",
   "metadata": {},
   "outputs": [
    {
     "data": {
      "text/plain": [
       "'http://sbolstandard.org/testfiles/Cas9'"
      ]
     },
     "execution_count": 30,
     "metadata": {},
     "output_type": "execute_result"
    }
   ],
   "source": [
    "found_obj = doc.find('Cas9')\n",
    "found_obj.identity"
   ]
  },
  {
   "cell_type": "code",
   "execution_count": 31,
   "id": "d8953b9b",
   "metadata": {},
   "outputs": [
    {
     "data": {
      "text/plain": [
       "'http://sbolstandard.org/other_namespace/Cas9'"
      ]
     },
     "execution_count": 31,
     "metadata": {},
     "output_type": "execute_result"
    }
   ],
   "source": [
    "found_obj = doc.find('http://sbolstandard.org/other_namespace/Cas9')\n",
    "found_obj.identity"
   ]
  },
  {
   "cell_type": "code",
   "execution_count": null,
   "id": "deac0a44",
   "metadata": {},
   "outputs": [],
   "source": []
  },
  {
   "cell_type": "code",
   "execution_count": 32,
   "id": "83da8d9a",
   "metadata": {},
   "outputs": [
    {
     "name": "stdout",
     "output_type": "stream",
     "text": [
      "Cas9\n",
      "http://sbolstandard.org/testfiles/Cas9\n"
     ]
    }
   ],
   "source": [
    "print(cas9.display_id)\n",
    "print(cas9.identity)"
   ]
  },
  {
   "cell_type": "code",
   "execution_count": 33,
   "id": "9bade270",
   "metadata": {},
   "outputs": [
    {
     "data": {
      "text/plain": [
       "['https://identifiers.org/SBO:0000252']"
      ]
     },
     "execution_count": 33,
     "metadata": {},
     "output_type": "execute_result"
    }
   ],
   "source": [
    "cas9.types"
   ]
  },
  {
   "cell_type": "code",
   "execution_count": 34,
   "id": "220ff89b",
   "metadata": {},
   "outputs": [
    {
     "data": {
      "text/plain": [
       "[]"
      ]
     },
     "execution_count": 34,
     "metadata": {},
     "output_type": "execute_result"
    }
   ],
   "source": [
    "cas9.roles"
   ]
  },
  {
   "cell_type": "code",
   "execution_count": 35,
   "id": "0c271c15",
   "metadata": {},
   "outputs": [
    {
     "data": {
      "text/plain": [
       "'This is a Cas9 protein'"
      ]
     },
     "execution_count": 35,
     "metadata": {},
     "output_type": "execute_result"
    }
   ],
   "source": [
    "cas9.description = 'This is a Cas9 protein'\n",
    "cas9.description"
   ]
  },
  {
   "cell_type": "code",
   "execution_count": 36,
   "id": "91e6682e",
   "metadata": {},
   "outputs": [],
   "source": [
    "plasmid = sbol3.Component('pBB1', sbol3.SBO_DNA)\n",
    "plasmid.roles = [ sbol3.SO_DOUBLE_STRANDED, sbol3.SO_CIRCULAR ]"
   ]
  },
  {
   "cell_type": "code",
   "execution_count": 37,
   "id": "7f52ad34",
   "metadata": {},
   "outputs": [
    {
     "data": {
      "text/plain": [
       "['https://identifiers.org/SO:0000985', 'https://identifiers.org/SO:0000988']"
      ]
     },
     "execution_count": 37,
     "metadata": {},
     "output_type": "execute_result"
    }
   ],
   "source": [
    "plasmid.roles"
   ]
  },
  {
   "cell_type": "code",
   "execution_count": 38,
   "id": "fd689442",
   "metadata": {},
   "outputs": [],
   "source": [
    "plasmid.roles = [ sbol3.SO_DOUBLE_STRANDED ]\n",
    "plasmid.roles = list(plasmid.roles) + [ sbol3.SO_CIRCULAR ]"
   ]
  },
  {
   "cell_type": "code",
   "execution_count": 39,
   "id": "098f624c",
   "metadata": {},
   "outputs": [
    {
     "data": {
      "text/plain": [
       "['https://identifiers.org/SO:0000985', 'https://identifiers.org/SO:0000988']"
      ]
     },
     "execution_count": 39,
     "metadata": {},
     "output_type": "execute_result"
    }
   ],
   "source": [
    "plasmid.roles"
   ]
  },
  {
   "cell_type": "code",
   "execution_count": 40,
   "id": "dd580a1a",
   "metadata": {},
   "outputs": [],
   "source": [
    "plasmid.roles = []"
   ]
  },
  {
   "cell_type": "code",
   "execution_count": 41,
   "id": "49b42740",
   "metadata": {},
   "outputs": [
    {
     "data": {
      "text/plain": [
       "[]"
      ]
     },
     "execution_count": 41,
     "metadata": {},
     "output_type": "execute_result"
    }
   ],
   "source": [
    "plasmid.roles"
   ]
  },
  {
   "cell_type": "code",
   "execution_count": 42,
   "id": "80b4a83b",
   "metadata": {},
   "outputs": [],
   "source": [
    "plasmid.roles = [ sbol3.SO_DOUBLE_STRANDED ]\n",
    "plasmid.roles.append( sbol3.SO_CIRCULAR )"
   ]
  },
  {
   "cell_type": "code",
   "execution_count": 43,
   "id": "db3cd1c3",
   "metadata": {},
   "outputs": [
    {
     "data": {
      "text/plain": [
       "['https://identifiers.org/SO:0000985', 'https://identifiers.org/SO:0000988']"
      ]
     },
     "execution_count": 43,
     "metadata": {},
     "output_type": "execute_result"
    }
   ],
   "source": [
    "plasmid.roles"
   ]
  },
  {
   "cell_type": "code",
   "execution_count": 44,
   "id": "8973ed65",
   "metadata": {},
   "outputs": [],
   "source": [
    "plasmid.roles = []\n",
    "plasmid.roles.extend( [sbol3.SO_DOUBLE_STRANDED, sbol3.SO_CIRCULAR] )"
   ]
  },
  {
   "cell_type": "code",
   "execution_count": 45,
   "id": "6816f6da",
   "metadata": {},
   "outputs": [
    {
     "data": {
      "text/plain": [
       "['https://identifiers.org/SO:0000985', 'https://identifiers.org/SO:0000988']"
      ]
     },
     "execution_count": 45,
     "metadata": {},
     "output_type": "execute_result"
    }
   ],
   "source": [
    "plasmid.roles"
   ]
  },
  {
   "cell_type": "code",
   "execution_count": 46,
   "id": "5d5df37f",
   "metadata": {},
   "outputs": [],
   "source": [
    "plasmid.roles = [ sbol3.SO_DOUBLE_STRANDED ]\n",
    "plasmid.roles += [ sbol3.SO_CIRCULAR ]"
   ]
  },
  {
   "cell_type": "code",
   "execution_count": 47,
   "id": "aae979c8",
   "metadata": {},
   "outputs": [
    {
     "data": {
      "text/plain": [
       "['https://identifiers.org/SO:0000985', 'https://identifiers.org/SO:0000988']"
      ]
     },
     "execution_count": 47,
     "metadata": {},
     "output_type": "execute_result"
    }
   ],
   "source": [
    "plasmid.roles"
   ]
  },
  {
   "cell_type": "code",
   "execution_count": null,
   "id": "c9e72921",
   "metadata": {},
   "outputs": [],
   "source": []
  },
  {
   "cell_type": "code",
   "execution_count": 48,
   "id": "4ad540fb",
   "metadata": {},
   "outputs": [],
   "source": [
    "# Promoter\n",
    "ptet = sbol3.Component('pTetR', sbol3.SBO_DNA)\n",
    "ptet.roles = [sbol3.SO_PROMOTER]\n",
    "\n",
    "# Operator\n",
    "op1 = sbol3.Component('op1', sbol3.SBO_DNA)\n",
    "op1.roles = [sbol3.SO_OPERATOR]\n",
    "\n",
    "# RBS\n",
    "rbs1 = sbol3.Component('RBS1', sbol3.SBO_DNA)\n",
    "rbs1.roles = [sbol3.SO_RBS]\n",
    "\n",
    "# CDS\n",
    "gfp = sbol3.Component('GFP', sbol3.SBO_DNA)\n",
    "gfp.roles.append(sbol3.SO_CDS)\n",
    "gfp.name = 'GFP'\n",
    "gfp.description = 'GFP Coding Sequence'"
   ]
  },
  {
   "cell_type": "code",
   "execution_count": 49,
   "id": "c570e0b9",
   "metadata": {},
   "outputs": [],
   "source": [
    "# Make circuit object and add subcomponents\n",
    "circuit = sbol3.Component('circuit', sbol3.SBO_DNA)\n",
    "circuit.roles.append(sbol3.SO_ENGINEERED_REGION)\n",
    "ptet_sc = sbol3.SubComponent(ptet)\n",
    "op1_sc = sbol3.SubComponent(op1)\n",
    "rbs1_sc = sbol3.SubComponent(rbs1)\n",
    "gfp_sc = sbol3.SubComponent(gfp, name='gfp_name')"
   ]
  },
  {
   "cell_type": "code",
   "execution_count": 50,
   "id": "46f7cda9",
   "metadata": {},
   "outputs": [],
   "source": [
    "# circuit.features can be set and appended to like any Python list\n",
    "circuit.features = [ptet_sc, op1_sc]\n",
    "circuit.features += [rbs1_sc]\n",
    "circuit.features.append(gfp_sc)"
   ]
  },
  {
   "cell_type": "code",
   "execution_count": 51,
   "id": "a4ade96f",
   "metadata": {},
   "outputs": [
    {
     "name": "stdout",
     "output_type": "stream",
     "text": [
      "SubComponent1, http://sbolstandard.org/testfiles/circuit/SubComponent1, http://sbolstandard.org/testfiles/pTetR\n",
      "SubComponent2, http://sbolstandard.org/testfiles/circuit/SubComponent2, http://sbolstandard.org/testfiles/op1\n",
      "SubComponent3, http://sbolstandard.org/testfiles/circuit/SubComponent3, http://sbolstandard.org/testfiles/RBS1\n",
      "SubComponent4, http://sbolstandard.org/testfiles/circuit/SubComponent4, http://sbolstandard.org/testfiles/GFP\n"
     ]
    }
   ],
   "source": [
    "for feat in circuit.features:\n",
    "    print(f'{feat.display_id}, {feat.identity}, {feat.instance_of}')"
   ]
  },
  {
   "cell_type": "code",
   "execution_count": 52,
   "id": "3d3bdbb8",
   "metadata": {},
   "outputs": [],
   "source": [
    "gfp = sbol3.Component('GFP', sbol3.SBO_DNA)\n",
    "gfp_seq = sbol3.Sequence('GFPSequence', elements='atgnnntaa', encoding=sbol3.IUPAC_DNA_ENCODING)"
   ]
  },
  {
   "cell_type": "code",
   "execution_count": 53,
   "id": "5e4b9c4c",
   "metadata": {},
   "outputs": [],
   "source": [
    "gfp.sequences = [ gfp_seq ]"
   ]
  },
  {
   "cell_type": "code",
   "execution_count": 54,
   "id": "3a1bc929",
   "metadata": {},
   "outputs": [
    {
     "name": "stdout",
     "output_type": "stream",
     "text": [
      "['http://sbolstandard.org/testfiles/GFPSequence']\n"
     ]
    }
   ],
   "source": [
    "print(gfp.sequences)"
   ]
  },
  {
   "cell_type": "code",
   "execution_count": 55,
   "id": "59aedb26",
   "metadata": {},
   "outputs": [],
   "source": [
    "gfp.sequences = [ gfp_seq.identity ]"
   ]
  },
  {
   "cell_type": "code",
   "execution_count": 56,
   "id": "c23f893f",
   "metadata": {},
   "outputs": [
    {
     "name": "stdout",
     "output_type": "stream",
     "text": [
      "['http://sbolstandard.org/testfiles/GFPSequence']\n"
     ]
    }
   ],
   "source": [
    "print(gfp.sequences)"
   ]
  },
  {
   "cell_type": "code",
   "execution_count": 57,
   "id": "9d02690e",
   "metadata": {},
   "outputs": [
    {
     "data": {
      "text/plain": [
       "'atgnnntaa'"
      ]
     },
     "execution_count": 57,
     "metadata": {},
     "output_type": "execute_result"
    }
   ],
   "source": [
    "gfp_seq.elements"
   ]
  },
  {
   "cell_type": "code",
   "execution_count": 58,
   "id": "b328fa24",
   "metadata": {},
   "outputs": [
    {
     "name": "stdout",
     "output_type": "stream",
     "text": [
      "http://sbolstandard.org/testfiles/GFPSequence\n"
     ]
    }
   ],
   "source": [
    "for seq in gfp.sequences:\n",
    "    print(seq)"
   ]
  },
  {
   "cell_type": "code",
   "execution_count": 59,
   "id": "47eb19c8",
   "metadata": {},
   "outputs": [
    {
     "name": "stdout",
     "output_type": "stream",
     "text": [
      "SubComponent1\n",
      "SubComponent2\n",
      "SubComponent3\n",
      "SubComponent4\n"
     ]
    }
   ],
   "source": [
    "for n in range(0, len(circuit.features)):\n",
    "    print(circuit.features[n].display_id)"
   ]
  },
  {
   "cell_type": "code",
   "execution_count": null,
   "id": "a39c6b22",
   "metadata": {},
   "outputs": [],
   "source": []
  }
 ],
 "metadata": {
  "kernelspec": {
   "display_name": "Python 3",
   "language": "python",
   "name": "python3"
  },
  "language_info": {
   "codemirror_mode": {
    "name": "ipython",
    "version": 3
   },
   "file_extension": ".py",
   "mimetype": "text/x-python",
   "name": "python",
   "nbconvert_exporter": "python",
   "pygments_lexer": "ipython3",
   "version": "3.9.5"
  }
 },
 "nbformat": 4,
 "nbformat_minor": 5
}
